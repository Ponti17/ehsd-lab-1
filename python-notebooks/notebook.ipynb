{
 "cells": [
  {
   "cell_type": "markdown",
   "metadata": {},
   "source": [
    "# EHSD Lab Exercise 1"
   ]
  },
  {
   "cell_type": "markdown",
   "metadata": {},
   "source": [
    "## Imports"
   ]
  },
  {
   "cell_type": "code",
   "execution_count": null,
   "metadata": {},
   "outputs": [],
   "source": [
    "import numpy as np\n",
    "import matplotlib.pyplot as plt\n",
    "import pandas as pd"
   ]
  },
  {
   "cell_type": "markdown",
   "metadata": {},
   "source": [
    "## 1. Microstrip Line"
   ]
  },
  {
   "cell_type": "code",
   "execution_count": null,
   "metadata": {},
   "outputs": [],
   "source": [
    "C_matrix = np.array([\n",
    "    [128.5, -12.0],\n",
    "    [-12.0, 128.5]\n",
    "]) # pF/m\n",
    "\n",
    "L_matrix = np.array([\n",
    "    [283.4, 52.2],\n",
    "    [52.2, 283.4]\n",
    "]) # nH/m\n",
    "\n",
    "# Mode 1 (differential)\n",
    "prop_speed_1 = 1.75463e8 # m/s\n",
    "er_eff_1 = 2.919\n",
    "\n",
    "# Mode 2 (common)\n",
    "prop_speed_2 = 1.599689e8 # m/s\n",
    "er_eff_2 = 3.512"
   ]
  },
  {
   "cell_type": "code",
   "execution_count": null,
   "metadata": {},
   "outputs": [],
   "source": [
    "with open(\"../ltspice/circuit_model.asc\", 'r', encoding='utf-8') as f:\n",
    "    lines = f.readlines()\n",
    "\n",
    "param_idx = []\n",
    "param_lines = []\n",
    "for i, line in enumerate(lines):\n",
    "    if '.param' in line:\n",
    "        param_idx.append(i)\n",
    "        param_lines.append(line)\n",
    "\n",
    "print(\"------ Current Parameters ------\")\n",
    "for line in param_lines:\n",
    "    values = line.split('.param')[1].strip()\n",
    "    print(values)"
   ]
  },
  {
   "cell_type": "code",
   "execution_count": null,
   "metadata": {},
   "outputs": [],
   "source": [
    "# Case 1\n",
    "component_values = {\n",
    "    'C1': '7.5p',\n",
    "    'R1': '10.9',\n",
    "    # QFN\n",
    "    'L1': '1.4154n',\n",
    "    'R2': '96.9m',\n",
    "    'C2': '0.1386p'\n",
    "}\n",
    "\n",
    "for i, line in enumerate(param_lines):\n",
    "    mod_line = line.split('.param')[1].strip().split(' ')\n",
    "\n",
    "    for key, value in component_values.items():\n",
    "        for j, param in enumerate(mod_line):\n",
    "            param = param.split('=')[0]\n",
    "            if key == param:\n",
    "                mod_line[j] = key + '=' + value\n",
    "    mod_line = ' '.join(mod_line)\n",
    "    \n",
    "    lines[param_idx[i]] = lines[param_idx[i]].split('.param')[0] + '.param ' + mod_line + '\\n'\n",
    "\n",
    "param_lines = []\n",
    "for i, line in enumerate(lines):\n",
    "    if '.param' in line:\n",
    "        param_lines.append(line)\n",
    "\n",
    "print(\"------ New Parameters ------\")\n",
    "for line in param_lines:\n",
    "    values = line.split('.param')[1].strip()\n",
    "    print(values)\n",
    "\n",
    "usr_input = input(\"Write? (y/n): \")\n",
    "if usr_input == 'y':\n",
    "    with open(\"../ltspice/circuit_model.asc\", 'w', encoding='utf-8') as f:\n",
    "        f.writelines(lines)"
   ]
  }
 ],
 "metadata": {
  "kernelspec": {
   "display_name": ".venv",
   "language": "python",
   "name": "python3"
  },
  "language_info": {
   "codemirror_mode": {
    "name": "ipython",
    "version": 3
   },
   "file_extension": ".py",
   "mimetype": "text/x-python",
   "name": "python",
   "nbconvert_exporter": "python",
   "pygments_lexer": "ipython3",
   "version": "3.12.5"
  }
 },
 "nbformat": 4,
 "nbformat_minor": 2
}

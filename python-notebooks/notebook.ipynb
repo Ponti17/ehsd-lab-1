{
 "cells": [
  {
   "cell_type": "markdown",
   "metadata": {},
   "source": [
    "# EHSD Lab Exercise 1"
   ]
  },
  {
   "cell_type": "markdown",
   "metadata": {},
   "source": [
    "## Imports"
   ]
  },
  {
   "cell_type": "code",
   "execution_count": 1,
   "metadata": {},
   "outputs": [],
   "source": [
    "import numpy as np\n",
    "import matplotlib.pyplot as plt\n",
    "import pandas as pd"
   ]
  },
  {
   "cell_type": "markdown",
   "metadata": {},
   "source": [
    "## 1. Microstrip Line"
   ]
  },
  {
   "cell_type": "code",
   "execution_count": null,
   "metadata": {},
   "outputs": [],
   "source": [
    "C_matrix = np.array([\n",
    "    [128.5, -12.0],\n",
    "    [-12.0, 128.5]\n",
    "]) # pF/m\n",
    "\n",
    "L_matrix = np.array([\n",
    "    [283.4, 52.2],\n",
    "    [52.2, 283.4]\n",
    "]) # nH/m\n",
    "\n",
    "# Mode 1 (differential)\n",
    "prop_speed_1 = 1.75463e8 # m/s\n",
    "er_eff_1 = 2.919\n",
    "\n",
    "# Mode 2 (common)\n",
    "prop_speed_2 = 1.599689e8 # m/s\n",
    "er_eff_2 = 3.512"
   ]
  }
 ],
 "metadata": {
  "kernelspec": {
   "display_name": ".venv",
   "language": "python",
   "name": "python3"
  },
  "language_info": {
   "codemirror_mode": {
    "name": "ipython",
    "version": 3
   },
   "file_extension": ".py",
   "mimetype": "text/x-python",
   "name": "python",
   "nbconvert_exporter": "python",
   "pygments_lexer": "ipython3",
   "version": "3.12.5"
  }
 },
 "nbformat": 4,
 "nbformat_minor": 2
}

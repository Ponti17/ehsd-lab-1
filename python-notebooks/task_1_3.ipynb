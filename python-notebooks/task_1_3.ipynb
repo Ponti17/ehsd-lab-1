{
 "cells": [
  {
   "cell_type": "code",
   "execution_count": 3,
   "metadata": {},
   "outputs": [],
   "source": [
    "import numpy as np\n",
    "import pandas as pd"
   ]
  },
  {
   "attachments": {
    "image.png": {
     "image/png": "[encoded data removed]"
    }
   },
   "cell_type": "markdown",
   "metadata": {},
   "source": [
    "![image.png](attachment:image.png)"
   ]
  },
  {
   "cell_type": "code",
   "execution_count": 5,
   "metadata": {},
   "outputs": [],
   "source": [
    "# Microstrip\n",
    "C_matrix_1 = np.array([\n",
    "    [128.5, -12.0],\n",
    "    [-12.0, 128.5]\n",
    "]) # pF/m\n",
    "\n",
    "L_matrix_1 = np.array([\n",
    "    [283.4, 52.2],\n",
    "    [52.2, 283.4]\n",
    "]) # nH/m\n",
    "\n",
    "# Side-by-side Stripline\n",
    "C_matrix_2 = np.array([\n",
    "    [152.3, -21.8],\n",
    "    [-21.8, 153.3]\n",
    "]) # pF/m\n",
    "\n",
    "L_matrix_2 = np.array([\n",
    "    [318.5, 45.3],\n",
    "    [45.3, 318.5]\n",
    "]) # nH/m\n",
    "\n",
    "# Broadside Stripline\n",
    "C_matrix_3 = np.array([\n",
    "    [167.5, -53.5],\n",
    "    [-53.5, 167.5]\n",
    "]) # pF/m\n",
    "\n",
    "L_matrix_3 = np.array([\n",
    "    [318.0, 101.4],\n",
    "    [101.4, 318.0]\n",
    "]) # nH/m"
   ]
  },
  {
   "cell_type": "code",
   "execution_count": 17,
   "metadata": {},
   "outputs": [],
   "source": [
    "# Length of transmission line\n",
    "x = 0.010 # 10 cm\n",
    "\n",
    "# Rise time\n",
    "T_rise = 500*1e-12\n",
    "\n",
    "# Z_0\n",
    "Z_0_1 = np.sqrt(C_matrix_1[0,0]*1e-12 / (L_matrix_1[0,0]*1e-9))\n",
    "Z_0_2 = np.sqrt(C_matrix_2[0,0]*1e-12 / (L_matrix_3[0,0]*1e-9))\n",
    "Z_0_3 = np.sqrt(C_matrix_3[0,0]*1e-12 / (L_matrix_3[0,0]*1e-9))\n",
    "\n",
    "# Time delays\n",
    "TD_1 = x*np.sqrt(C_matrix_1[0,0]*1e-12*L_matrix_1[0,0]*1e-9)\n",
    "TD_2 = x*np.sqrt(C_matrix_2[0,0]*1e-12*L_matrix_2[0,0]*1e-9)\n",
    "TD_3 = x*np.sqrt(C_matrix_3[0,0]*1e-12*L_matrix_3[0,0]*1e-9)\n",
    "\n",
    "# Minimum number of segments\n",
    "N_seg_min_1 = 10 * TD_1/T_rise\n",
    "N_seg_min_2 = 10 * TD_2/T_rise\n",
    "N_seg_min_3 = 10 * TD_3/T_rise\n",
    "\n",
    "# Number of segments\n",
    "N_seg_1 = np.ceil(N_seg_min_1) # 2 \n",
    "N_seg_2 = np.ceil(N_seg_min_2) # 2\n",
    "N_seg_3 = np.ceil(N_seg_min_3) # 2\n",
    "\n",
    "# Total C and Total L\n",
    "C_total_1 = TD_1/Z_0_1 \n",
    "C_total_2 = TD_2/Z_0_2\n",
    "C_total_3 = TD_2/Z_0_3\n",
    "\n",
    "L_total_1 = TD_1*Z_0_1\n",
    "L_total_2 = TD_2*Z_0_2\n",
    "L_total_3 = TD_3*Z_0_3\n",
    "\n",
    "# C and L for segments\n",
    "C_seg_1 = C_total_1/N_seg_1\n",
    "C_seg_2 = C_total_2/N_seg_2\n",
    "C_seg_3 = C_total_3/N_seg_3\n",
    "\n",
    "L_seg_1 = L_total_1/N_seg_1\n",
    "L_seg_2 = L_total_2/N_seg_2\n",
    "L_seg_3 = L_total_3/N_seg_3"
   ]
  },
  {
   "cell_type": "code",
   "execution_count": null,
   "metadata": {},
   "outputs": [],
   "source": []
  },
  {
   "cell_type": "code",
   "execution_count": null,
   "metadata": {},
   "outputs": [],
   "source": []
  },
  {
   "cell_type": "code",
   "execution_count": null,
   "metadata": {},
   "outputs": [],
   "source": []
  }
 ],
 "metadata": {
  "kernelspec": {
   "display_name": ".venv",
   "language": "python",
   "name": "python3"
  },
  "language_info": {
   "codemirror_mode": {
    "name": "ipython",
    "version": 3
   },
   "file_extension": ".py",
   "mimetype": "text/x-python",
   "name": "python",
   "nbconvert_exporter": "python",
   "pygments_lexer": "ipython3",
   "version": "3.12.4"
  }
 },
 "nbformat": 4,
 "nbformat_minor": 2
}
